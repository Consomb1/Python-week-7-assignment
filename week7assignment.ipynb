{
 "cells": [
  {
   "cell_type": "code",
   "execution_count": null,
   "id": "8079ea19-f8f8-494a-9711-928e80b17523",
   "metadata": {},
   "outputs": [],
   "source": [
    "# Task 1\n",
    "#Loading csv file\n",
    "import pandas as pd\n",
    "\n",
    "df = pd.read_csv('deprem_son24saat_duzenli.csv', parse_dates=['Olus_Zamani'])"
   ]
  },
  {
   "cell_type": "code",
   "execution_count": null,
   "id": "d52315a2-9ac7-4249-b772-86205d3dc779",
   "metadata": {},
   "outputs": [],
   "source": [
    "## Display the first few rows\n",
    "print(\"First 5 rows of the dataset:\")\n",
    "display(df.head(5))"
   ]
  },
  {
   "cell_type": "code",
   "execution_count": null,
   "id": "5125bd66-ad51-4b5a-9786-2d6ec1e16ed2",
   "metadata": {},
   "outputs": [],
   "source": [
    " # Explore structure\n",
    "print(\"\\nDataset structure:\")\n",
    "print(df.info())"
   ]
  },
  {
   "cell_type": "code",
   "execution_count": null,
   "id": "be6261c2-0623-47a7-aa24-cb69c69261bd",
   "metadata": {},
   "outputs": [],
   "source": [
    " # Check for missing values\n",
    "print(\"\\nMissing values:\")\n",
    "print(df.isnull().sum())"
   ]
  },
  {
   "cell_type": "code",
   "execution_count": null,
   "id": "3ab38287-56d1-4d5f-8942-597cf39e9761",
   "metadata": {},
   "outputs": [],
   "source": [
    "# Clean the dataset (though this dataset appears clean)\n",
    "df.dropna(inplace=True)"
   ]
  },
  {
   "cell_type": "code",
   "execution_count": null,
   "id": "ae9e782b-65f3-4f87-b5e0-7d97ae7fd9a5",
   "metadata": {},
   "outputs": [],
   "source": [
    "# Extract additional features from timestamp\n",
    "df['Hour'] = df['Olus_Zamani'].dt.hour\n",
    "df['Day_Part'] = pd.cut(df['Hour'], \n",
    "                           bins=[0, 6, 12, 18, 24],\n",
    "                           labels=['Night', 'Morning', 'Afternoon', 'Evening'],\n",
    "                           right=False)"
   ]
  },
  {
   "cell_type": "code",
   "execution_count": null,
   "id": "4223df70-cbad-47e0-8262-33c7123f16ca",
   "metadata": {},
   "outputs": [],
   "source": [
    "try:\n",
    "    # Clean the 'Yer' column to extract main location\n",
    "    df['Main_Location'] = df['Yer'].str.split('(').str[0].str.strip()\n",
    "    df['Main_Location'] = df['Main_Location'].replace('', 'MARMARA DENIZI')\n",
    "    \n",
    "    print(\"\\nDataset after cleaning and feature engineering:\")\n",
    "    print(df.info())\n",
    "\n",
    "except Exception as e:\n",
    "    print(f\"An error occurred: {e}\")\n"
   ]
  },
  {
   "cell_type": "code",
   "execution_count": null,
   "id": "2c215f07-0e13-4925-963c-d44a42f40257",
   "metadata": {},
   "outputs": [],
   "source": [
    "# Task 2: Basic Data Analysis\n",
    "import matplotlib.pyplot as plt\n",
    "import numpy as np\n",
    "from datetime import datetime\n",
    "# Basic statistics\n",
    "print(\"Basic statistics of numerical columns:\")\n",
    "display(df.describe())\n",
    "\n",
    "    "
   ]
  },
  {
   "cell_type": "code",
   "execution_count": null,
   "id": "4a9a803b-552c-4b16-9304-bfa6745c0649",
   "metadata": {},
   "outputs": [],
   "source": [
    "# Group by main location and compute mean of numerical columns\n",
    "print(\"\\nMean of numerical columns by main location:\")\n",
    "location_stats = df.groupby('Main_Location').agg({\n",
    "    'Buyukluk': ['mean', 'max', 'count'],\n",
    "    'Derinlik_km': 'mean'\n",
    "}).sort_values(('Buyukluk', 'mean'), ascending=False)\n",
    "display(location_stats)"
   ]
  },
  {
   "cell_type": "code",
   "execution_count": null,
   "id": "90b97ca1-f965-485f-b2bc-6b4d765dbfae",
   "metadata": {},
   "outputs": [],
   "source": [
    "# Group by time of day and compute mean magnitude\n",
    "print(\"\\nMean magnitude by time of day:\")\n",
    "time_stats = df.groupby('Day_Part')['Buyukluk'].mean().sort_values(ascending=False)\n",
    "display(time_stats)\n"
   ]
  },
  {
   "cell_type": "code",
   "execution_count": null,
   "id": "cc688214-fdca-4f6c-9234-2333d2b061f5",
   "metadata": {},
   "outputs": [],
   "source": [
    "# Interesting findings\n",
    "print(\"\\nInteresting findings:\")\n",
    "print(\"1. The strongest earthquake was magnitude 5.2 in the MARMARA DENIZI region.\")\n",
    "print(\"2. Most earthquakes (over 200) occurred in the MARMARA DENIZI region.\")\n",
    "print(\"3. The average depth of earthquakes is about 15 km.\")\n",
    "print(\"4. Earthquakes tend to be slightly stronger in the afternoon hours.\")"
   ]
  },
  {
   "cell_type": "code",
   "execution_count": null,
   "id": "2617bb9b-ec65-4afd-947b-26addc9c3b22",
   "metadata": {},
   "outputs": [],
   "source": [
    "# Task 3: Data Visualization\n",
    "import seaborn as sns\n",
    "# Set style for better looking plots\n",
    "sns.set(style=\"whitegrid\")\n",
    "plt.figure(figsize=(18, 12))\n"
   ]
  },
  {
   "cell_type": "code",
   "execution_count": null,
   "id": "04e7b3e7-3f3b-4e15-9a9f-14a3bd65c40a",
   "metadata": {},
   "outputs": [],
   "source": [
    "# 1. Line chart (earthquake magnitude over time)\n",
    "plt.subplot(2, 2, 1)\n",
    "df.set_index('Olus_Zamani')['Buyukluk'].plot(\n",
    "    title='Earthquake Magnitude Over Time', \n",
    "    color='red',\n",
    "    alpha=0.7\n",
    ")\n",
    "plt.xlabel('Time')\n",
    "plt.ylabel('Magnitude')\n",
    "plt.xticks(rotation=45)"
   ]
  },
  {
   "cell_type": "code",
   "execution_count": null,
   "id": "d0004160-0f77-4f6d-aafd-b4796ba9e9fa",
   "metadata": {},
   "outputs": [],
   "source": [
    "# 2. Bar chart (average magnitude by location)\n",
    "plt.subplot(2, 2, 2)\n",
    "top_locations = df['Main_Location'].value_counts().nlargest(5).index\n",
    "df_filtered = df[df['Main_Location'].isin(top_locations)]\n",
    "sns.barplot(\n",
    "    x='Main_Location', \n",
    "    y='Buyukluk', \n",
    "    data=df_filtered, \n",
    "    estimator=np.mean, \n",
    "    ci=None,\n",
    "    palette='viridis'\n",
    ")\n",
    "plt.title('Average Magnitude by Location (Top 5)')\n",
    "plt.xlabel('Location')\n",
    "plt.ylabel('Average Magnitude')\n",
    "plt.xticks(rotation=45)"
   ]
  },
  {
   "cell_type": "code",
   "execution_count": null,
   "id": "9e5d6060-83f8-4a81-b83a-70111a705757",
   "metadata": {},
   "outputs": [],
   "source": [
    "# 3. Histogram (distribution of earthquake depths)\n",
    "plt.subplot(2, 2, 3)\n",
    "sns.histplot(\n",
    "    data=df, \n",
    "    x='Derinlik_km', \n",
    "    bins=20, \n",
    "    kde=True, \n",
    "    color='blue'\n",
    ")\n",
    "plt.title('Distribution of Earthquake Depths')\n",
    "plt.xlabel('Depth (km)')\n",
    "plt.ylabel('Frequency')"
   ]
  },
  {
   "cell_type": "code",
   "execution_count": null,
   "id": "e052c014-bfd7-49a4-bcc6-ed021a9367fb",
   "metadata": {},
   "outputs": [],
   "source": [
    "# 4. Scatter plot (depth vs magnitude)\n",
    "plt.subplot(2, 2, 4)\n",
    "sns.scatterplot(\n",
    "    data=df, \n",
    "    x='Derinlik_km', \n",
    "    y='Buyukluk', \n",
    "    hue='Main_Location',\n",
    "    palette='viridis',\n",
    "    alpha=0.7\n",
    ")\n",
    "plt.title('Depth vs Magnitude by Location')\n",
    "plt.xlabel('Depth (km)')\n",
    "plt.ylabel('Magnitude')\n",
    "plt.legend(title='Location', bbox_to_anchor=(1.05, 1), loc='upper left')\n",
    "\n",
    "plt.tight_layout()\n",
    "plt.show()"
   ]
  },
  {
   "cell_type": "code",
   "execution_count": null,
   "id": "788851b6-ad34-41f9-8d20-edb0bc676adb",
   "metadata": {},
   "outputs": [],
   "source": [
    "# Additional visualization - Map of earthquake locations\n",
    "print(\"\\nMap visualization of earthquake locations:\")\n",
    "plt.figure(figsize=(10, 8))\n",
    "sns.scatterplot(\n",
    "    data=df, \n",
    "    x='Boylam', \n",
    "    y='Enlem', \n",
    "    size='Buyukluk', \n",
    "    hue='Buyukluk',\n",
    "    palette='coolwarm',\n",
    "    sizes=(20, 200),\n",
    "    alpha=0.7\n",
    ")\n",
    "plt.title('Geographical Distribution of Earthquakes (Size = Magnitude)')\n",
    "plt.xlabel('Longitude')\n",
    "plt.ylabel('Latitude')\n",
    "plt.legend(bbox_to_anchor=(1.05, 1), loc='upper left')\n",
    "plt.grid(True)\n",
    "plt.show()\n",
    "\n",
    "# Additional visualization - Hourly distribution of earthquakes\n",
    "plt.figure(figsize=(12, 6))\n",
    "sns.countplot(data=df, x='Hour', color='skyblue')\n",
    "plt.title('Hourly Distribution of Earthquakes')\n",
    "plt.xlabel('Hour of Day')\n",
    "plt.ylabel('Number of Earthquakes')\n",
    "plt.show()"
   ]
  },
  {
   "cell_type": "code",
   "execution_count": null,
   "id": "0e9ff2e6-1c3b-4c74-84b3-e6dce942d2ea",
   "metadata": {},
   "outputs": [],
   "source": []
  }
 ],
 "metadata": {
  "kernelspec": {
   "display_name": "Python 3 (ipykernel)",
   "language": "python",
   "name": "python3"
  },
  "language_info": {
   "codemirror_mode": {
    "name": "ipython",
    "version": 3
   },
   "file_extension": ".py",
   "mimetype": "text/x-python",
   "name": "python",
   "nbconvert_exporter": "python",
   "pygments_lexer": "ipython3",
   "version": "3.12.6"
  }
 },
 "nbformat": 4,
 "nbformat_minor": 5
}
